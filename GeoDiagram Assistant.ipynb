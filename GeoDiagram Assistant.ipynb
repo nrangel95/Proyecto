{
 "cells": [
  {
   "cell_type": "markdown",
   "metadata": {},
   "source": [
    "##Welcome to GeoDiagram Assitant!\n",
    "**This friendly python notebook will help you put with all those teadious Geochemical Diagrams everybody hates doing but are extremely important in the study of rocks. *GeoDiagram Friend* is the perfect tool for geologists who are looking excel and save lots of time for your classes or for personal investigation.**\n",
    "\n",
    "Please run the following 5 blocks of code and let the fun begin!\n"
   ]
  },
  {
   "cell_type": "code",
   "execution_count": 1,
   "metadata": {
    "collapsed": true
   },
   "outputs": [],
   "source": [
    "import numpy as np\n",
    "import matplotlib\n",
    "from matplotlib.figure import Figure\n",
    "from matplotlib import style\n",
    "import matplotlib.animation as animation\n",
    "import matplotlib.pylab as py\n",
    "\n",
    "LARGE_FONT= (\"Verdana\", 12)\n",
    "NORMAL_FONT= (\"Verdana\", 8)\n",
    "style.use(\"fivethirtyeight\")\n"
   ]
  },
  {
   "cell_type": "code",
   "execution_count": 41,
   "metadata": {
    "collapsed": false
   },
   "outputs": [],
   "source": [
    "data=[]\n",
    "SV=[]\n",
    "def Datos(archivo):\n",
    "    global data\n",
    "    data=np.genfromtxt(archivo, delimiter=',')\n",
    "    \n",
    "    #SV represents the standard values for the Chondritic and MORB (Mid Ocean Ridge Basalt) compositions.\n",
    "    SV= np.genfromtxt(\"https://www.dropbox.com/s/89sem45lk21hoxn/Condrito.csv?dl=0\", delimiter=',')\n",
    "    "
   ]
  },
  {
   "cell_type": "markdown",
   "metadata": {},
   "source": [
    "###Please take into account the following instructions:\n",
    "\n",
    "1. The file that contains the laboratory results for your sample must be in a comma separated value format (csv).\n",
    "2. You must import it using the \"Datos\" function. Please enter the exact name of the file. "
   ]
  },
  {
   "cell_type": "code",
   "execution_count": 42,
   "metadata": {
    "collapsed": false
   },
   "outputs": [],
   "source": [
    "Datos(\"GeoDatos.csv\")"
   ]
  },
  {
   "cell_type": "code",
   "execution_count": 36,
   "metadata": {
    "collapsed": false
   },
   "outputs": [],
   "source": []
  },
  {
   "cell_type": "code",
   "execution_count": 32,
   "metadata": {
    "collapsed": false
   },
   "outputs": [
    {
     "ename": "NameError",
     "evalue": "name 'standardValues' is not defined",
     "output_type": "error",
     "traceback": [
      "\u001b[0;31m---------------------------------------------------------------------------\u001b[0m",
      "\u001b[0;31mNameError\u001b[0m                                 Traceback (most recent call last)",
      "\u001b[0;32m<ipython-input-32-e80fa57b4615>\u001b[0m in \u001b[0;36m<module>\u001b[0;34m()\u001b[0m\n\u001b[0;32m----> 1\u001b[0;31m \u001b[0mprint\u001b[0m\u001b[0;34m(\u001b[0m\u001b[0mtype\u001b[0m\u001b[0;34m(\u001b[0m\u001b[0mstandardValues\u001b[0m\u001b[0;34m)\u001b[0m\u001b[0;34m)\u001b[0m\u001b[0;34m\u001b[0m\u001b[0m\n\u001b[0m",
      "\u001b[0;31mNameError\u001b[0m: name 'standardValues' is not defined"
     ]
    }
   ],
   "source": [
    "print(type(standardValues))"
   ]
  },
  {
   "cell_type": "code",
   "execution_count": null,
   "metadata": {
    "collapsed": true
   },
   "outputs": [],
   "source": []
  }
 ],
 "metadata": {
  "kernelspec": {
   "display_name": "Python 3",
   "language": "python",
   "name": "python3"
  },
  "language_info": {
   "codemirror_mode": {
    "name": "ipython",
    "version": 3
   },
   "file_extension": ".py",
   "mimetype": "text/x-python",
   "name": "python",
   "nbconvert_exporter": "python",
   "pygments_lexer": "ipython3",
   "version": "3.4.3"
  }
 },
 "nbformat": 4,
 "nbformat_minor": 0
}
